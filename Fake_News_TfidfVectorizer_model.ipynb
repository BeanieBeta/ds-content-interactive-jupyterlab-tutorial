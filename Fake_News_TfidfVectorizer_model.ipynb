{
  "nbformat": 4,
  "nbformat_minor": 0,
  "metadata": {
    "colab": {
      "name": "Fake News TfidfVectorizer model",
      "provenance": [],
      "collapsed_sections": [],
      "include_colab_link": true
    },
    "kernelspec": {
      "display_name": "Python 3",
      "name": "python3"
    },
    "language_info": {
      "name": "python"
    }
  },
  "cells": [
    {
      "cell_type": "markdown",
      "metadata": {
        "id": "view-in-github",
        "colab_type": "text"
      },
      "source": [
        "<a href=\"https://colab.research.google.com/github/BeanieBeta/ds-content-interactive-jupyterlab-tutorial/blob/master/Fake_News_TfidfVectorizer_model.ipynb\" target=\"_parent\"><img src=\"https://colab.research.google.com/assets/colab-badge.svg\" alt=\"Open In Colab\"/></a>"
      ]
    },
    {
      "cell_type": "code",
      "metadata": {
        "id": "AC8ZLxXE94vu"
      },
      "source": [
        "# importing relevant libraries\n",
        "import numpy as np\n",
        "import pandas as pd\n",
        "import itertools\n",
        "from sklearn.feature_extraction.text import CountVectorizer\n",
        "from sklearn.feature_extraction.text import TfidfTransformer\n",
        "from sklearn.naive_bayes import MultinomialNB\n",
        "from sklearn import svm\n",
        "from numpy import average\n",
        "import re\n",
        "from sklearn.model_selection import train_test_split\n",
        "from sklearn.feature_extraction.text import TfidfVectorizer\n",
        "from sklearn.linear_model import PassiveAggressiveClassifier\n",
        "from sklearn.metrics import accuracy_score, confusion_matrix, precision_score, recall_score, f1_score, classification_report\n",
        "from google.colab import drive\n",
        "import pickle\n",
        "import seaborn as sns"
      ],
      "execution_count": null,
      "outputs": []
    },
    {
      "cell_type": "code",
      "metadata": {
        "colab": {
          "base_uri": "https://localhost:8080/"
        },
        "id": "xuXXl07n-NkJ",
        "outputId": "484ebf0b-fb32-44cf-91bf-a198b7df525d"
      },
      "source": [
        "# read the datasets from Google Drive\n",
        "drive.mount('/content/gdrive')\n",
        "df_fake=pd.read_csv('/content/gdrive/My Drive/Fake.csv')\n",
        "df_true=pd.read_csv('/content/gdrive/My Drive/True.csv')"
      ],
      "execution_count": null,
      "outputs": [
        {
          "output_type": "stream",
          "text": [
            "Mounted at /content/gdrive\n"
          ],
          "name": "stdout"
        }
      ]
    },
    {
      "cell_type": "code",
      "metadata": {
        "id": "YZ_dlvDG-jDm"
      },
      "source": [
        "# add a 'label' column filled with the booleans False and True for the fake news and true news datasets respectively\n",
        "df_fake['label'] = False\n",
        "df_true['label'] = True\n",
        "# combines and randomizes the two datasets\n",
        "combine_set = pd.concat([df_fake,df_true]).sample(frac =  1,random_state = 1)"
      ],
      "execution_count": null,
      "outputs": []
    },
    {
      "cell_type": "code",
      "metadata": {
        "id": "5qgFBnExuPNF"
      },
      "source": [
        "# Gets the labels from the label column\n",
        "labels = combine_set.label"
      ],
      "execution_count": null,
      "outputs": []
    },
    {
      "cell_type": "code",
      "metadata": {
        "id": "f04vPaNpu0Js"
      },
      "source": [
        "# equally splits the combined dataset into test and training datasets; \n",
        "# separates text and label columns from the combined data sets\n",
        "# uses 80% of each divided part of the dataset as a training set \n",
        "# the other 20%s become test sets \n",
        "# randomizes divided parts of dataset 7 times\n",
        "x_train,x_test,y_train,y_test=train_test_split(combine_set['text'], labels, test_size=0.2, random_state=7)"
      ],
      "execution_count": null,
      "outputs": []
    },
    {
      "cell_type": "code",
      "metadata": {
        "id": "frEgLygzB-Lu"
      },
      "source": [
        "# this basically starts a feature extraction command that turns text documents into TF-IDF features\n",
        "# TF-IDF features are bascially words that have been given a numerical value to represent how significant they are\n",
        "# stop_words='english' removes all english stop words from the text i.e. \"a\", \"an\", \"the\", \"be\", etc.\n",
        "# max_df = 0.7 makes it so that all words that appear in more than 70% of the given documents are not included when making the features\n",
        "# it filters these because at a certain point of commonality, certain words just become noise for the model like stop words; they don't help distinguish False articles from True articles \n",
        "tfidf_vectorizer=TfidfVectorizer(stop_words='english', max_df=0.7)\n",
        "# Basically applies the above filters to the test and training sets for one category of label\n",
        "tfidf_train=tfidf_vectorizer.fit_transform(x_train) \n",
        "tfidf_test=tfidf_vectorizer.transform(x_test)"
      ],
      "execution_count": null,
      "outputs": []
    },
    {
      "cell_type": "code",
      "metadata": {
        "id": "D1a7LweAerGn"
      },
      "source": [
        "# Initialize the `count_vectorizer` \n",
        "count_vectorizer = CountVectorizer(stop_words='english')\n",
        "\n",
        "# Fit and transform the training data.\n",
        "count_train = count_vectorizer.fit_transform(x_train)\n",
        "\n",
        "# Transform the test set \n",
        "count_test = count_vectorizer.transform(x_test)"
      ],
      "execution_count": null,
      "outputs": []
    },
    {
      "cell_type": "code",
      "metadata": {
        "colab": {
          "base_uri": "https://localhost:8080/"
        },
        "id": "jJmenXaMezJX",
        "outputId": "d7aaca00-8ba2-4c30-a342-e870f4967646"
      },
      "source": [
        "# Get the feature names of `tfidf_vectorizer` \n",
        "print(tfidf_vectorizer.get_feature_names()[-10:])"
      ],
      "execution_count": null,
      "outputs": [
        {
          "output_type": "stream",
          "text": [
            "['zzjjpdaivn', 'zzn3bqnfsk', 'zzpx_bzka40police', 'zzqvyk8xif', 'zztaine', 'zzucqevt3m', 'zzuml4hkoc', 'zzzzaaaacccchhh', 'zzzzzzzzzzzzz', 'émigré']\n"
          ],
          "name": "stdout"
        }
      ]
    },
    {
      "cell_type": "code",
      "metadata": {
        "colab": {
          "base_uri": "https://localhost:8080/"
        },
        "id": "lwEsEClHe0s5",
        "outputId": "0fe5800e-a56a-4bc4-9e32-20ec87f5f692"
      },
      "source": [
        "# Get the feature names of `count_vectorizer` \n",
        "print(count_vectorizer.get_feature_names()[0:10])"
      ],
      "execution_count": null,
      "outputs": [
        {
          "output_type": "stream",
          "text": [
            "['00', '000', '0000', '00000017', '00004', '000048', '00007', '000270', '00042', '0005']\n"
          ],
          "name": "stdout"
        }
      ]
    },
    {
      "cell_type": "code",
      "metadata": {
        "colab": {
          "base_uri": "https://localhost:8080/"
        },
        "id": "oHXHzP0DCRwn",
        "outputId": "ab96cf61-4b2c-4204-d54c-281c12cad5d3"
      },
      "source": [
        "# initializes a Passive Agressive Classifier machine learning algorithm and assigns it to \"pac\"; makes it so that this model will go over training data 50 times; \n",
        "# the more times a model runs on a training set, the more accurate it is, but it is important not to overfit the model, so 50 is a reasonable number of times to run it through the training set\n",
        "# passive-aggressive algorithms are a family of machine learning algorithms for large-scale learning(perfect for our datasets with 20,000+ articles)\n",
        "pac=PassiveAggressiveClassifier(max_iter=50)\n",
        "pac.fit(tfidf_train,y_train)\n",
        "# predict on the test set and calculate accuracy, recall, precision, and f1\n",
        "y_pred=pac.predict(tfidf_test)\n",
        "print(f'Accuracy: {round(accuracy_score(y_test,y_pred)*100,2)}%')\n",
        "print(f'Recall: {round(recall_score(y_test,y_pred)*100,2)}%')\n",
        "print(f'Precision: {round(precision_score(y_test,y_pred)*100,2)}%')\n",
        "print(f'F1: {round(f1_score(y_test,y_pred)*100,2)}%')"
      ],
      "execution_count": null,
      "outputs": [
        {
          "output_type": "stream",
          "text": [
            "Accuracy: 99.42%\n",
            "Recall: 99.58%\n",
            "Precision: 99.21%\n",
            "F1: 99.39%\n"
          ],
          "name": "stdout"
        }
      ]
    },
    {
      "cell_type": "code",
      "metadata": {
        "colab": {
          "base_uri": "https://localhost:8080/"
        },
        "id": "9OsYplnjfBhu",
        "outputId": "a21e5c80-4499-46ad-8b65-4875deee5369"
      },
      "source": [
        "clf = MultinomialNB() \n",
        "clf.fit(count_train, y_train)\n",
        "pred = clf.predict(count_test)\n",
        "score = accuracy_score(y_test, pred)\n",
        "print(f'Accuracy: {round(accuracy_score(y_test,pred)*100,2)}%')\n",
        "print(f'Recall: {round(recall_score(y_test,pred)*100,2)}%')\n",
        "print(f'Precision: {round(precision_score(y_test,pred)*100,2)}%')\n",
        "print(f'F1: {round(f1_score(y_test,pred)*100,2)}%')"
      ],
      "execution_count": null,
      "outputs": [
        {
          "output_type": "stream",
          "text": [
            "Accuracy: 94.93%\n",
            "Recall: 94.49%\n",
            "Precision: 94.82%\n",
            "F1: 94.66%\n"
          ],
          "name": "stdout"
        }
      ]
    },
    {
      "cell_type": "code",
      "metadata": {
        "colab": {
          "base_uri": "https://localhost:8080/"
        },
        "id": "T405eYKpg1Ci",
        "outputId": "b8b271d2-22ba-45e0-d7fe-1ba9d2e89dbf"
      },
      "source": [
        "clf = MultinomialNB() \n",
        "clf.fit(tfidf_train, y_train)\n",
        "pred = clf.predict(tfidf_test)\n",
        "score = accuracy_score(y_test, pred)\n",
        "score = accuracy_score(y_test, pred)\n",
        "print(f'Accuracy: {round(accuracy_score(y_test,pred)*100,2)}%')\n",
        "print(f'Recall: {round(recall_score(y_test,pred)*100,2)}%')\n",
        "print(f'Precision: {round(precision_score(y_test,pred)*100,2)}%')\n",
        "print(f'F1: {round(f1_score(y_test,pred)*100,2)}%')"
      ],
      "execution_count": null,
      "outputs": [
        {
          "output_type": "stream",
          "text": [
            "Accuracy: 93.11%\n",
            "Recall: 92.33%\n",
            "Precision: 93.1%\n",
            "F1: 92.71%\n"
          ],
          "name": "stdout"
        }
      ]
    },
    {
      "cell_type": "code",
      "metadata": {
        "colab": {
          "base_uri": "https://localhost:8080/"
        },
        "id": "lBgBAC3Kg7Kf",
        "outputId": "5001d28a-4f48-46c4-dfa0-875eac2d4a14"
      },
      "source": [
        "linear_clf = PassiveAggressiveClassifier(max_iter=50)\n",
        "linear_clf.fit(tfidf_train, y_train)\n",
        "pred = linear_clf.predict(tfidf_test)\n",
        "score = accuracy_score(y_test, pred)\n",
        "score = accuracy_score(y_test, pred)\n",
        "print(f'Accuracy: {round(accuracy_score(y_test,pred)*100,2)}%')\n",
        "print(f'Recall: {round(recall_score(y_test,pred)*100,2)}%')\n",
        "print(f'Precision: {round(precision_score(y_test,pred)*100,2)}%')\n",
        "print(f'F1: {round(f1_score(y_test,pred)*100,2)}%')"
      ],
      "execution_count": null,
      "outputs": [
        {
          "output_type": "stream",
          "text": [
            "Accuracy: 99.35%\n",
            "Recall: 99.55%\n",
            "Precision: 99.09%\n",
            "F1: 99.32%\n"
          ],
          "name": "stdout"
        }
      ]
    },
    {
      "cell_type": "code",
      "metadata": {
        "colab": {
          "base_uri": "https://localhost:8080/",
          "height": 1000
        },
        "id": "ND9tEqythEEZ",
        "outputId": "9bfa94fb-1120-422c-bf4d-8977b275e4e8"
      },
      "source": [
        "def most_informative_feature_for_binary_classification(vectorizer, classifier, n=100):\n",
        "    \"\"\"\n",
        "    See: https://stackoverflow.com/a/26980472\n",
        "    \n",
        "    Identify most important features if given a vectorizer and binary classifier. Set n to the number\n",
        "    of weighted features you would like to show. (Note: current implementation merely prints and does not \n",
        "    return top classes.)\n",
        "    \"\"\"\n",
        "\n",
        "    class_labels = classifier.classes_\n",
        "    feature_names = vectorizer.get_feature_names()\n",
        "    topn_class1 = sorted(zip(classifier.coef_[0], feature_names))[:n]\n",
        "    topn_class2 = sorted(zip(classifier.coef_[0], feature_names))[-n:]\n",
        "    data = []\n",
        "\n",
        "    for coef, feat in topn_class1:\n",
        "        print(class_labels[0], coef, feat)\n",
        "        data.append([feat, coef])\n",
        "\n",
        "    print()\n",
        "\n",
        "    for coef, feat in reversed(topn_class2):\n",
        "        print(class_labels[1], coef, feat)\n",
        "        data.append([feat, coef])\n",
        "\n",
        "    print(topn_class1)\n",
        "    df = pd.DataFrame(data, columns = ['Word', 'Value'])\n",
        "    print(topn_class1)\n",
        "    print(df)\n",
        "    sns.set(rc={'figure.figsize':(20,8.27)})\n",
        "    graph = sns.barplot(x = 'Word', y = 'Value', data=df, ci=65)\n",
        "    graph\n",
        "\n",
        "\n",
        "most_informative_feature_for_binary_classification(tfidf_vectorizer, linear_clf, n=10)"
      ],
      "execution_count": null,
      "outputs": [
        {
          "output_type": "stream",
          "text": [
            "False -8.172964230377334 read\n",
            "False -7.513057597005375 image\n",
            "False -7.378609485154294 featured\n",
            "False -5.449658693644207 gop\n",
            "False -5.196667140369247 getty\n",
            "False -5.137780259136428 just\n",
            "False -4.558326737464529 hillary\n",
            "False -4.341554176445653 sen\n",
            "False -4.319746566771778 com\n",
            "False -4.096409014617214 watch\n",
            "\n",
            "True 31.579622296099537 reuters\n",
            "True 5.158247645776234 nov\n",
            "True 5.052297131722695 washington\n",
            "True 4.206104449075915 republican\n",
            "True 4.055168303518543 wednesday\n",
            "True 3.8905908427547002 thursday\n",
            "True 3.8624499470311378 tuesday\n",
            "True 3.189750818201638 friday\n",
            "True 3.125710887204936 showed\n",
            "True 3.092439701923418 comment\n",
            "[(-8.172964230377334, 'read'), (-7.513057597005375, 'image'), (-7.378609485154294, 'featured'), (-5.449658693644207, 'gop'), (-5.196667140369247, 'getty'), (-5.137780259136428, 'just'), (-4.558326737464529, 'hillary'), (-4.341554176445653, 'sen'), (-4.319746566771778, 'com'), (-4.096409014617214, 'watch')]\n",
            "[(-8.172964230377334, 'read'), (-7.513057597005375, 'image'), (-7.378609485154294, 'featured'), (-5.449658693644207, 'gop'), (-5.196667140369247, 'getty'), (-5.137780259136428, 'just'), (-4.558326737464529, 'hillary'), (-4.341554176445653, 'sen'), (-4.319746566771778, 'com'), (-4.096409014617214, 'watch')]\n",
            "          Word      Value\n",
            "0         read  -8.172964\n",
            "1        image  -7.513058\n",
            "2     featured  -7.378609\n",
            "3          gop  -5.449659\n",
            "4        getty  -5.196667\n",
            "5         just  -5.137780\n",
            "6      hillary  -4.558327\n",
            "7          sen  -4.341554\n",
            "8          com  -4.319747\n",
            "9        watch  -4.096409\n",
            "10     reuters  31.579622\n",
            "11         nov   5.158248\n",
            "12  washington   5.052297\n",
            "13  republican   4.206104\n",
            "14   wednesday   4.055168\n",
            "15    thursday   3.890591\n",
            "16     tuesday   3.862450\n",
            "17      friday   3.189751\n",
            "18      showed   3.125711\n",
            "19     comment   3.092440\n"
          ],
          "name": "stdout"
        },
        {
          "output_type": "display_data",
          "data": {
            "image/png": "[encoded data removed]",
            "text/plain": [
              "<Figure size 1440x595.44 with 1 Axes>"
            ]
          },
          "metadata": {
            "tags": []
          }
        }
      ]
    },
    {
      "cell_type": "code",
      "metadata": {
        "id": "3ERP1xouyvpS"
      },
      "source": [
        "...\n",
        "# define input\n",
        "# Prasanna, you just need to get whatever is input into the text box to replace the string inside of this nested array; we're leaving this to you since the website stuff is more your territory\n",
        "new_input = [[\"U.S. citizens are among the dozens killed and injured in a stampede at a religious festival in Israel, the U.S. Embassy said on Saturday, as criticism mounted in the wake of one of the biggest civilian disasters in the country’s history. At least 45 people were crushed to death and more than 100 injured at the ultra-Orthodox Jewish festival on the slopes of Israel’s Mount Meron, held overnight between Thursday and Friday. The exact cause of the disaster is still not clear, but witness accounts and videos posted on social media suggested that some people had fallen down stairs leading out of a narrow passageway packed by hundreds of worshippers trying to exit the site, as a surge of people came down upon those ahead of them who had fallen, being trampled and asphyxiated. One witness described seeing a pyramid of people piling up one on top of the other. Authorities said children were among those hurt. Avigdor Hayut, injured in the crush, lost his 13-year-old son. He said they were caught under a mass of people. 'I was on the floor. Twenty seconds stood between me being with him now, no more. I was already numb and my vision was blurred,' he told reporters before he was released from hospital to attend his son's funeral. 'My son was screaming t to me 'daddy I'm going to die,'' Hayut said. 'They got me out at the last minute.' The Health Ministry said 42 of the dead had been identified by late Saturday. The identification process paused for 24 hours in observance of the Jewish Sabbath and resumed on Saturday evening, and families held late-night burials. Around 20 of the people injured were still in hospital by Friday night. More than 2,000 Israelis across the country responded to an emergency call for blood donations, according to Magen David Adom, Israel's ambulance service. A U.S. Embassy representative said: 'We can confirm that multiple U.S. citizens were among the casualties'. Those included both dead and injured. The U.S. Embassy was trying to verify if any more American citizens were involved and is providing all possible consular support to affected U.S. citizens, the representative said, declining to comment further. The Israeli Foreign Ministry said on Friday that consulate officials in New York were in contact with four families of victims and the Israeli embassy in Argentina was in contact with one family. U.S. media have identified some of the dead, including a 19-year-old American citizen who was in Israel on a gap year. Two Canadians were killed in the disaster, Canadian Prime Minister Justin Trudeau said on Friday. Condolences poured in from leaders around the world, including U.S. President Joe Biden and Palestinian President Mahmoud Abbas. SAFETY CONCERNS The Justice Ministry said investigators would look into whether there had been any police misconduct connected to the tragedy and Prime Minister Benjamin Netanyahu promised a thorough investigation to ensure it did not happen again. Public Security Minister Amir Ohana and Police Commissioner Yaakov Shabtai both said on Saturday they will co-operate fully with any probe. A dozen people protested outside Ohana's home in Tel Aviv, spelling out the word 'shame' with lit candles. There had been concern for years about safety risks at the annual event, held at the tomb of a 2nd-century Jewish sage in the Galilee. Anger has mounted at the government and the police for allowing the event to go ahead despite its size far exceeding the coronavirus restrictions on gatherings. An estimated 100,000 packed the festival. Some critics said politicians had caved to pressures of ultra-Orthodox leaders who are presently allied with Netanyahu but have flouted the state's authority for years. “The government wouldn’t consider any restrictions for fear of its Haredi (ultra-Orthodox) partners. And as far as physical safety was concerned, this year wasn’t any different from previous ones. Warnings of a potential disaster have been heard many times before, including from members of the Haredi community, but the traditions must not be changed,” wrote Anshel Pfeffer, an analyst for the left-wing Haaretz newspaper.\"]]"
      ],
      "execution_count": null,
      "outputs": []
    },
    {
      "cell_type": "code",
      "metadata": {
        "colab": {
          "base_uri": "https://localhost:8080/"
        },
        "id": "BXgm76OS1FJF",
        "outputId": "69f7379c-ec0e-4a8c-cc0c-eae455937d96"
      },
      "source": [
        "#new_output = clf.predict(new_input)\n",
        "tfidf_testInput=tfidf_vectorizer.transform(new_input[0])\n",
        "new_output = clf.predict(tfidf_testInput)\n",
        "new_output"
      ],
      "execution_count": null,
      "outputs": [
        {
          "output_type": "execute_result",
          "data": {
            "text/plain": [
              "array([ True])"
            ]
          },
          "metadata": {
            "tags": []
          },
          "execution_count": 16
        }
      ]
    },
    {
      "cell_type": "code",
      "metadata": {
        "colab": {
          "base_uri": "https://localhost:8080/"
        },
        "id": "8CTVZwwsQG4F",
        "outputId": "a0cf7da4-7161-489a-c862-46b25277a8eb"
      },
      "source": [
        "sv_t = svm.SVC()\n",
        "sv_t.fit(tfidf_train, y_train)"
      ],
      "execution_count": null,
      "outputs": [
        {
          "output_type": "execute_result",
          "data": {
            "text/plain": [
              "SVC(C=1.0, break_ties=False, cache_size=200, class_weight=None, coef0=0.0,\n",
              "    decision_function_shape='ovr', degree=3, gamma='scale', kernel='rbf',\n",
              "    max_iter=-1, probability=False, random_state=None, shrinking=True,\n",
              "    tol=0.001, verbose=False)"
            ]
          },
          "metadata": {
            "tags": []
          },
          "execution_count": 17
        }
      ]
    },
    {
      "cell_type": "code",
      "metadata": {
        "id": "JWxgTSyb_OZY"
      },
      "source": [
        "pickle.dump([sv_t,average,f1_score], open('complete_ml.pkl', 'wb' ))"
      ],
      "execution_count": null,
      "outputs": []
    }
  ]
}